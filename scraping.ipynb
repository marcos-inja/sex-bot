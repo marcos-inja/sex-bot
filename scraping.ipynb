{
 "cells": [
  {
   "cell_type": "code",
   "execution_count": 80,
   "id": "3e60afba",
   "metadata": {},
   "outputs": [],
   "source": [
    "import requests\n",
    "import sys\n",
    "import concurrent.futures\n",
    "import json\n",
    "\n",
    "from bs4 import BeautifulSoup\n",
    "\n",
    "\n",
    "URL_BASE = \"https://www.piadasnet.com/\"\n",
    "\n",
    "def get_url_soup(url: str) -> BeautifulSoup:\n",
    "    try:\n",
    "        page_source = requests.get(url)\n",
    "    except Exception as err:\n",
    "        sys.exit(str(err))\n",
    "    \n",
    "    soup = BeautifulSoup(page_source.text, \"html.parser\")\n",
    "    return soup"
   ]
  },
  {
   "cell_type": "code",
   "execution_count": 81,
   "id": "9abdedb5",
   "metadata": {},
   "outputs": [],
   "source": [
    "def get_links(url: str) -> list:\n",
    "    page = get_url_soup(url)\n",
    "    joke_div = page.find_all(class_ = \"linkvisitado\")\n",
    "    joke = []\n",
    "    for link in joke_div:\n",
    "        joke.append(link.find(\"a\").attrs[\"href\"])\n",
    "        \n",
    "    return joke"
   ]
  },
  {
   "cell_type": "code",
   "execution_count": 82,
   "id": "26d81c11",
   "metadata": {},
   "outputs": [],
   "source": [
    "def get_joke(url: str) -> str:\n",
    "    page = get_url_soup(url)\n",
    "    joke = page.find(class_ = \"piada\").text\n",
    "    joke = joke.replace(\"\\r\\n\", \" \").replace(\"\\n\", \" \").replace(\"\\r\", \" \")\n",
    "    return joke"
   ]
  },
  {
   "cell_type": "code",
   "execution_count": 86,
   "id": "f7b8b4ca",
   "metadata": {},
   "outputs": [],
   "source": [
    "with open(\"jokes.json\", \"r\") as fp:\n",
    "    jokes = json.load(fp)\n",
    "    \n",
    "def get_page_joke(init: str) -> None:\n",
    "    joke_list = get_links(URL_BASE + init)\n",
    "    with concurrent.futures.ThreadPoolExecutor() as executor:\n",
    "            file = []\n",
    "            for joke_link in joke_list:\n",
    "                file.append(\n",
    "                    executor.submit(\n",
    "                        get_joke, URL_BASE + joke_link\n",
    "                    )\n",
    "                )\n",
    "            for future in concurrent.futures.as_completed(file):\n",
    "                jokes.append(future.result())\n",
    "\n",
    "\n",
    "PAGE_INIT = \"piadas-de-casais.htm\"\n",
    "get_page_joke(PAGE_INIT)\n",
    "    \n",
    "with open(f\"jokes.json\", \"w\") as fp:\n",
    "    json.dump(jokes, fp, indent=4, ensure_ascii=False)"
   ]
  }
 ],
 "metadata": {
  "kernelspec": {
   "display_name": "Python 3 (ipykernel)",
   "language": "python",
   "name": "python3"
  },
  "language_info": {
   "codemirror_mode": {
    "name": "ipython",
    "version": 3
   },
   "file_extension": ".py",
   "mimetype": "text/x-python",
   "name": "python",
   "nbconvert_exporter": "python",
   "pygments_lexer": "ipython3",
   "version": "3.10.1"
  }
 },
 "nbformat": 4,
 "nbformat_minor": 5
}
